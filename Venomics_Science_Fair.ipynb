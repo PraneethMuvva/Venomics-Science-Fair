{
 "cells": [
  {
   "cell_type": "markdown",
   "metadata": {
    "id": "Az6bOB46-FRc"
   },
   "source": [
    "# Machine Learning Application to Venomics"
   ]
  },
  {
   "cell_type": "markdown",
   "metadata": {
    "id": "bfpbHnv1ijdP"
   },
   "source": [
    "# Data Preprocessing"
   ]
  },
  {
   "cell_type": "code",
   "execution_count": null,
   "metadata": {
    "colab": {
     "base_uri": "https://localhost:8080/"
    },
    "id": "8yNXuenZXv6y",
    "outputId": "3e9ee160-d623-4582-c065-9cdf73f515b6"
   },
   "outputs": [
    {
     "name": "stderr",
     "output_type": "stream",
     "text": [
      "UsageError: Line magic function `%tensorflow_version` not found.\n"
     ]
    }
   ],
   "source": [
    "#%tensorflow_version 2.x "
   ]
  },
  {
   "cell_type": "code",
   "execution_count": 3,
   "metadata": {
    "colab": {
     "base_uri": "https://localhost:8080/"
    },
    "id": "3C9upR9dmwgD",
    "outputId": "8f42285b-ce14-4bf5-f7be-6722ab04c073"
   },
   "outputs": [
    {
     "name": "stdout",
     "output_type": "stream",
     "text": [
      "Importing libraries...\n"
     ]
    },
    {
     "ename": "ModuleNotFoundError",
     "evalue": "No module named 'tensorflow'",
     "output_type": "error",
     "traceback": [
      "\u001b[31m---------------------------------------------------------------------------\u001b[39m",
      "\u001b[31mModuleNotFoundError\u001b[39m                       Traceback (most recent call last)",
      "\u001b[36mCell\u001b[39m\u001b[36m \u001b[39m\u001b[32mIn[3]\u001b[39m\u001b[32m, line 3\u001b[39m\n\u001b[32m      1\u001b[39m \u001b[38;5;28mprint\u001b[39m(\u001b[33m\"\u001b[39m\u001b[33mImporting libraries...\u001b[39m\u001b[33m\"\u001b[39m)\n\u001b[32m----> \u001b[39m\u001b[32m3\u001b[39m \u001b[38;5;28;01mimport\u001b[39;00m\u001b[38;5;250m \u001b[39m\u001b[34;01mtensorflow\u001b[39;00m\u001b[38;5;250m \u001b[39m\u001b[38;5;28;01mas\u001b[39;00m\u001b[38;5;250m \u001b[39m\u001b[34;01mtf\u001b[39;00m\n\u001b[32m      4\u001b[39m \u001b[38;5;28;01mimport\u001b[39;00m\u001b[38;5;250m \u001b[39m\u001b[34;01mkeras\u001b[39;00m\n\u001b[32m      5\u001b[39m \u001b[38;5;28;01mfrom\u001b[39;00m\u001b[38;5;250m \u001b[39m\u001b[34;01mkeras\u001b[39;00m\u001b[34;01m.\u001b[39;00m\u001b[34;01mmodels\u001b[39;00m\u001b[38;5;250m \u001b[39m\u001b[38;5;28;01mimport\u001b[39;00m Sequential\n",
      "\u001b[31mModuleNotFoundError\u001b[39m: No module named 'tensorflow'"
     ]
    }
   ],
   "source": [
    "print(\"Importing libraries...\")\n",
    "\n",
    "import tensorflow as tf\n",
    "import keras\n",
    "from keras.models import Sequential\n",
    "from keras.layers import Dense, Dropout, Flatten, Embedding\n",
    "from keras.layers import Conv2D, MaxPooling2D, Conv1D, MaxPooling1D\n",
    "from keras.preprocessing import image\n",
    "from keras.utils import pad_sequences\n",
    "from keras.utils import to_categorical\n",
    "from sklearn.metrics import confusion_matrix, multilabel_confusion_matrix, ConfusionMatrixDisplay, hamming_loss, classification_report\n",
    "import numpy as np\n",
    "from numpy import savetxt\n",
    "import pandas as pd\n",
    "import matplotlib.pyplot as plt\n",
    "from matplotlib.axis import Axis\n",
    "from sklearn.model_selection import train_test_split\n",
    "from tqdm import tqdm\n",
    "from keras.layers import BatchNormalization\n",
    "import sklearn.metrics as skm\n",
    "\n",
    "\n",
    "print(\"Libraries imported!\")"
   ]
  },
  {
   "cell_type": "code",
   "execution_count": null,
   "metadata": {
    "id": "WUbp57ukIQgx"
   },
   "outputs": [],
   "source": [
    "# Import dataset\n",
    "\n",
    "path='py_venomics_dataset.xlsx'\n",
    "df = pd.read_excel(path)\n",
    "df = df.drop([\"Molecular Function\"], axis=1)"
   ]
  },
  {
   "cell_type": "code",
   "execution_count": 57,
   "metadata": {
    "id": "tQKDqhSd8L7L"
   },
   "outputs": [],
   "source": [
    "# Creating the amino acid encoding dictionary and encoding function\n",
    "\n",
    "codes = ['A', 'C', 'D', 'E', 'F', 'G', 'H', 'I', 'K', 'L',\n",
    "         'M', 'N', 'P', 'Q', 'R', 'S', 'T', 'V', 'W', 'Y']\n",
    "\n",
    "def create_dict(codes):\n",
    "  char_dict = {}\n",
    "  for index, val in enumerate(codes):\n",
    "    char_dict[val] = index+1\n",
    "\n",
    "  return char_dict\n",
    "\n",
    "char_dict = create_dict(codes)\n",
    "\n",
    "def integer_encoding(data):\n",
    "  encode_list = []\n",
    "  for row in data['Sequence'].values:\n",
    "    row_encode = []\n",
    "    for code in row:\n",
    "      row_encode.append(char_dict.get(code, 0))\n",
    "    encode_list.append(np.array(row_encode))\n",
    "\n",
    "  return encode_list\n",
    "\n",
    "def test_encode(sequ):\n",
    "  ret_list = []\n",
    "  encoded_list= []\n",
    "  for code in sequ:\n",
    "    encoded_list.append(char_dict.get(code, 0))\n",
    "  ret_list.append(encoded_list)\n",
    "  ret_list = pad_sequences(ret_list, maxlen=max_length, padding='post', truncating='post')\n",
    "  return ret_list"
   ]
  },
  {
   "cell_type": "code",
   "execution_count": 58,
   "metadata": {
    "id": "xf8H3lMqK3Oa"
   },
   "outputs": [],
   "source": [
    "# Padding amino acid sequences to 600 character length / truncating at 600\n",
    "\n",
    "df_encode = integer_encoding(df)\n",
    "max_length = 600\n",
    "df_pad = pad_sequences(df_encode, maxlen=max_length, padding='post', truncating='post')\n"
   ]
  },
  {
   "cell_type": "code",
   "execution_count": 59,
   "metadata": {
    "id": "i8vh8-EAscuk"
   },
   "outputs": [],
   "source": [
    "# Dropping original sequence column and replacing with padded sequences\n",
    "# Converting all columns to float32 to be used in neural network\n",
    "\n",
    "df = df.drop(['Sequence', 'GO:0005516.1'], axis=1)\n",
    "df = df.astype(np.float32)\n",
    "df_pad = pd.DataFrame(df_pad)\n",
    "result = pd.concat([df_pad, df], axis=1)"
   ]
  },
  {
   "cell_type": "code",
   "execution_count": 26,
   "metadata": {
    "id": "uDsgAKAekNsf"
   },
   "outputs": [],
   "source": [
    "# Split dataset into X(amino acid sequences) and Y(molecular function categories)\n",
    "\n",
    "x = result.drop(['GO:0090729', 'GO:0005179', 'GO:0016829',\n",
    "       'GO:0046872', 'GO:0008081', 'GO:0004867', 'GO:0099106', 'GO:0015459',\n",
    "       'GO:0004252', 'GO:0005246', 'GO:0004623', 'GO:0005509', 'GO:0008200',\n",
    "       'GO:0017080', 'GO:0019834', 'GO:0008270', 'GO:0030550', 'GO:0004222',\n",
    "       'GO:0052740', 'GO:0052739', 'GO:0008970', 'GO:0050025', 'GO:0050029',\n",
    "       'GO:0106329', 'GO:0008191', 'GO:0004620', 'GO:0008233', 'GO:0016504',\n",
    "       'GO:0060422', 'GO:0000166', 'GO:0106411', 'GO:0000287', 'GO:0008237',\n",
    "       'GO:0005102', 'GO:0005216', 'GO:0008201', 'GO:0008236', 'GO:0008289',\n",
    "       'GO:0019870', 'GO:0019871', 'GO:0004465', 'GO:0016491', 'GO:0042802',\n",
    "       'GO:0047498', 'GO:0048018', 'GO:0001515', 'GO:0001716', 'GO:0042803',\n",
    "       'GO:0003677', 'GO:0050660', 'GO:0003990', 'GO:0003993', 'GO:0004175',\n",
    "       'GO:0004177', 'GO:0004415', 'GO:0008239', 'GO:0004556', 'GO:0004860',\n",
    "       'GO:0004866', 'GO:0004869', 'GO:0005154', 'GO:0005184', 'GO:0005185',\n",
    "       'GO:0005507', 'GO:0005516', 'GO:0005520', 'GO:0005534', 'GO:0030395',\n",
    "       'GO:0033296', 'GO:0008061', 'GO:0008083', 'GO:0016603', 'GO:0016787',\n",
    "       'GO:0019855', 'GO:0003676', 'GO:0016853', 'GO:0017081', 'GO:0044325',\n",
    "       'GO:0030246', 'GO:0030414', 'GO:0033906', 'GO:0043262', 'GO:0048019',\n",
    "       'GO:0070320', 'GO:0080030', 'GO:0140628'], axis=1)\n",
    "\n",
    "y = df.drop(['Length','Mass'], axis=1)"
   ]
  },
  {
   "cell_type": "markdown",
   "metadata": {
    "id": "oIdhK5s2iwQz"
   },
   "source": [
    "# Model Building"
   ]
  },
  {
   "cell_type": "code",
   "execution_count": 60,
   "metadata": {
    "id": "AjdgGdduscmO"
   },
   "outputs": [],
   "source": [
    "# X Y traing/test split\n",
    "x_train, x_test, y_train, y_test = train_test_split(x.drop(['Length', 'Mass'], axis=1), y, random_state=10, test_size=0.25)"
   ]
  },
  {
   "cell_type": "code",
   "execution_count": 64,
   "metadata": {
    "id": "uJGmCcOEsbgq"
   },
   "outputs": [
    {
     "name": "stderr",
     "output_type": "stream",
     "text": [
      "/Users/ameyak/Library/Python/3.9/lib/python/site-packages/keras/src/layers/core/embedding.py:90: UserWarning: Argument `input_length` is deprecated. Just remove it.\n",
      "  warnings.warn(\n"
     ]
    }
   ],
   "source": [
    "# Model architecture construction\n",
    "model = Sequential()\n",
    "\n",
    "model.add(Embedding(10000, 32, input_length=600))\n",
    "model.add(Flatten())\n",
    "model.add(Dense(256, activation='relu'))\n",
    "model.add(Dropout(0.6))\n",
    "model.add(Dense(128, activation='relu'))\n",
    "model.add(Dropout(0.6))\n",
    "model.add(Dense(64, activation='relu'))\n",
    "model.add(Dropout(0.6))\n",
    "model.add(Dense(86, activation='sigmoid'))\n"
   ]
  },
  {
   "cell_type": "code",
   "execution_count": 65,
   "metadata": {
    "id": "bwR4A_Qsnmzg"
   },
   "outputs": [],
   "source": [
    "# Compile model\n",
    "model.compile(optimizer='adam', loss='binary_crossentropy', metrics=['accuracy'])"
   ]
  },
  {
   "cell_type": "code",
   "execution_count": null,
   "metadata": {
    "colab": {
     "base_uri": "https://localhost:8080/"
    },
    "id": "T90Ig5LAnmwY",
    "outputId": "b61f9dce-d2a3-4faa-d5c7-0862becd58c2"
   },
   "outputs": [
    {
     "name": "stdout",
     "output_type": "stream",
     "text": [
      "Epoch 1/100\n",
      "\u001b[1m400/400\u001b[0m \u001b[32m━━━━━━━━━━━━━━━━━━━━\u001b[0m\u001b[37m\u001b[0m \u001b[1m9s\u001b[0m 21ms/step - accuracy: 0.5637 - loss: 0.2425 - val_accuracy: 0.9000 - val_loss: 0.0529\n",
      "Epoch 2/100\n",
      "\u001b[1m400/400\u001b[0m \u001b[32m━━━━━━━━━━━━━━━━━━━━\u001b[0m\u001b[37m\u001b[0m \u001b[1m8s\u001b[0m 20ms/step - accuracy: 0.8943 - loss: 0.0633 - val_accuracy: 0.8910 - val_loss: 0.0497\n",
      "Epoch 3/100\n",
      "\u001b[1m400/400\u001b[0m \u001b[32m━━━━━━━━━━━━━━━━━━━━\u001b[0m\u001b[37m\u001b[0m \u001b[1m8s\u001b[0m 20ms/step - accuracy: 0.8964 - loss: 0.0554 - val_accuracy: 0.8830 - val_loss: 0.0452\n",
      "Epoch 4/100\n",
      "\u001b[1m400/400\u001b[0m \u001b[32m━━━━━━━━━━━━━━━━━━━━\u001b[0m\u001b[37m\u001b[0m \u001b[1m8s\u001b[0m 20ms/step - accuracy: 0.8748 - loss: 0.0526 - val_accuracy: 0.8225 - val_loss: 0.0406\n",
      "Epoch 5/100\n",
      "\u001b[1m400/400\u001b[0m \u001b[32m━━━━━━━━━━━━━━━━━━━━\u001b[0m\u001b[37m\u001b[0m \u001b[1m8s\u001b[0m 20ms/step - accuracy: 0.8430 - loss: 0.0472 - val_accuracy: 0.8257 - val_loss: 0.0400\n",
      "Epoch 6/100\n",
      "\u001b[1m400/400\u001b[0m \u001b[32m━━━━━━━━━━━━━━━━━━━━\u001b[0m\u001b[37m\u001b[0m \u001b[1m8s\u001b[0m 20ms/step - accuracy: 0.8479 - loss: 0.0444 - val_accuracy: 0.8295 - val_loss: 0.0379\n",
      "Epoch 7/100\n",
      "\u001b[1m400/400\u001b[0m \u001b[32m━━━━━━━━━━━━━━━━━━━━\u001b[0m\u001b[37m\u001b[0m \u001b[1m8s\u001b[0m 20ms/step - accuracy: 0.8270 - loss: 0.0417 - val_accuracy: 0.8267 - val_loss: 0.0390\n",
      "Epoch 8/100\n",
      "\u001b[1m400/400\u001b[0m \u001b[32m━━━━━━━━━━━━━━━━━━━━\u001b[0m\u001b[37m\u001b[0m \u001b[1m8s\u001b[0m 20ms/step - accuracy: 0.8390 - loss: 0.0410 - val_accuracy: 0.8196 - val_loss: 0.0367\n",
      "Epoch 9/100\n",
      "\u001b[1m400/400\u001b[0m \u001b[32m━━━━━━━━━━━━━━━━━━━━\u001b[0m\u001b[37m\u001b[0m \u001b[1m8s\u001b[0m 20ms/step - accuracy: 0.8313 - loss: 0.0391 - val_accuracy: 0.7806 - val_loss: 0.0361\n",
      "Epoch 10/100\n",
      "\u001b[1m400/400\u001b[0m \u001b[32m━━━━━━━━━━━━━━━━━━━━\u001b[0m\u001b[37m\u001b[0m \u001b[1m9s\u001b[0m 21ms/step - accuracy: 0.8316 - loss: 0.0392 - val_accuracy: 0.7980 - val_loss: 0.0353\n",
      "Epoch 11/100\n",
      "\u001b[1m400/400\u001b[0m \u001b[32m━━━━━━━━━━━━━━━━━━━━\u001b[0m\u001b[37m\u001b[0m \u001b[1m8s\u001b[0m 21ms/step - accuracy: 0.8173 - loss: 0.0371 - val_accuracy: 0.8060 - val_loss: 0.0360\n",
      "Epoch 12/100\n",
      "\u001b[1m400/400\u001b[0m \u001b[32m━━━━━━━━━━━━━━━━━━━━\u001b[0m\u001b[37m\u001b[0m \u001b[1m8s\u001b[0m 21ms/step - accuracy: 0.8210 - loss: 0.0366 - val_accuracy: 0.8107 - val_loss: 0.0349\n",
      "Epoch 13/100\n",
      "\u001b[1m400/400\u001b[0m \u001b[32m━━━━━━━━━━━━━━━━━━━━\u001b[0m\u001b[37m\u001b[0m \u001b[1m8s\u001b[0m 21ms/step - accuracy: 0.8242 - loss: 0.0372 - val_accuracy: 0.8004 - val_loss: 0.0349\n",
      "Epoch 14/100\n",
      "\u001b[1m400/400\u001b[0m \u001b[32m━━━━━━━━━━━━━━━━━━━━\u001b[0m\u001b[37m\u001b[0m \u001b[1m8s\u001b[0m 21ms/step - accuracy: 0.8075 - loss: 0.0358 - val_accuracy: 0.8145 - val_loss: 0.0335\n",
      "Epoch 15/100\n",
      "\u001b[1m400/400\u001b[0m \u001b[32m━━━━━━━━━━━━━━━━━━━━\u001b[0m\u001b[37m\u001b[0m \u001b[1m8s\u001b[0m 21ms/step - accuracy: 0.8200 - loss: 0.0347 - val_accuracy: 0.8116 - val_loss: 0.0334\n",
      "Epoch 16/100\n",
      "\u001b[1m400/400\u001b[0m \u001b[32m━━━━━━━━━━━━━━━━━━━━\u001b[0m\u001b[37m\u001b[0m \u001b[1m8s\u001b[0m 21ms/step - accuracy: 0.8264 - loss: 0.0348 - val_accuracy: 0.8140 - val_loss: 0.0333\n",
      "Epoch 17/100\n",
      "\u001b[1m400/400\u001b[0m \u001b[32m━━━━━━━━━━━━━━━━━━━━\u001b[0m\u001b[37m\u001b[0m \u001b[1m8s\u001b[0m 21ms/step - accuracy: 0.8257 - loss: 0.0343 - val_accuracy: 0.8215 - val_loss: 0.0340\n",
      "Epoch 18/100\n",
      "\u001b[1m400/400\u001b[0m \u001b[32m━━━━━━━━━━━━━━━━━━━━\u001b[0m\u001b[37m\u001b[0m \u001b[1m8s\u001b[0m 21ms/step - accuracy: 0.8142 - loss: 0.0336 - val_accuracy: 0.7891 - val_loss: 0.0340\n",
      "Epoch 19/100\n",
      "\u001b[1m400/400\u001b[0m \u001b[32m━━━━━━━━━━━━━━━━━━━━\u001b[0m\u001b[37m\u001b[0m \u001b[1m8s\u001b[0m 20ms/step - accuracy: 0.8029 - loss: 0.0326 - val_accuracy: 0.8206 - val_loss: 0.0334\n",
      "Epoch 20/100\n",
      "\u001b[1m400/400\u001b[0m \u001b[32m━━━━━━━━━━━━━━━━━━━━\u001b[0m\u001b[37m\u001b[0m \u001b[1m8s\u001b[0m 21ms/step - accuracy: 0.8162 - loss: 0.0320 - val_accuracy: 0.8248 - val_loss: 0.0324\n",
      "Epoch 21/100\n",
      "\u001b[1m400/400\u001b[0m \u001b[32m━━━━━━━━━━━━━━━━━━━━\u001b[0m\u001b[37m\u001b[0m \u001b[1m8s\u001b[0m 21ms/step - accuracy: 0.8106 - loss: 0.0323 - val_accuracy: 0.8262 - val_loss: 0.0318\n",
      "Epoch 22/100\n",
      "\u001b[1m400/400\u001b[0m \u001b[32m━━━━━━━━━━━━━━━━━━━━\u001b[0m\u001b[37m\u001b[0m \u001b[1m8s\u001b[0m 21ms/step - accuracy: 0.8133 - loss: 0.0313 - val_accuracy: 0.8187 - val_loss: 0.0326\n",
      "Epoch 23/100\n",
      "\u001b[1m400/400\u001b[0m \u001b[32m━━━━━━━━━━━━━━━━━━━━\u001b[0m\u001b[37m\u001b[0m \u001b[1m8s\u001b[0m 21ms/step - accuracy: 0.8201 - loss: 0.0311 - val_accuracy: 0.8243 - val_loss: 0.0306\n",
      "Epoch 24/100\n",
      "\u001b[1m400/400\u001b[0m \u001b[32m━━━━━━━━━━━━━━━━━━━━\u001b[0m\u001b[37m\u001b[0m \u001b[1m8s\u001b[0m 21ms/step - accuracy: 0.8171 - loss: 0.0311 - val_accuracy: 0.8234 - val_loss: 0.0311\n",
      "Epoch 25/100\n",
      "\u001b[1m400/400\u001b[0m \u001b[32m━━━━━━━━━━━━━━━━━━━━\u001b[0m\u001b[37m\u001b[0m \u001b[1m8s\u001b[0m 21ms/step - accuracy: 0.8257 - loss: 0.0293 - val_accuracy: 0.8225 - val_loss: 0.0309\n",
      "Epoch 26/100\n",
      "\u001b[1m400/400\u001b[0m \u001b[32m━━━━━━━━━━━━━━━━━━━━\u001b[0m\u001b[37m\u001b[0m \u001b[1m8s\u001b[0m 21ms/step - accuracy: 0.8075 - loss: 0.0287 - val_accuracy: 0.8304 - val_loss: 0.0308\n",
      "Epoch 27/100\n",
      "\u001b[1m400/400\u001b[0m \u001b[32m━━━━━━━━━━━━━━━━━━━━\u001b[0m\u001b[37m\u001b[0m \u001b[1m8s\u001b[0m 21ms/step - accuracy: 0.8129 - loss: 0.0284 - val_accuracy: 0.8201 - val_loss: 0.0313\n",
      "Epoch 28/100\n",
      "\u001b[1m400/400\u001b[0m \u001b[32m━━━━━━━━━━━━━━━━━━━━\u001b[0m\u001b[37m\u001b[0m \u001b[1m8s\u001b[0m 21ms/step - accuracy: 0.8087 - loss: 0.0286 - val_accuracy: 0.8112 - val_loss: 0.0302\n",
      "Epoch 29/100\n",
      "\u001b[1m400/400\u001b[0m \u001b[32m━━━━━━━━━━━━━━━━━━━━\u001b[0m\u001b[37m\u001b[0m \u001b[1m8s\u001b[0m 21ms/step - accuracy: 0.8023 - loss: 0.0291 - val_accuracy: 0.8229 - val_loss: 0.0315\n",
      "Epoch 30/100\n",
      "\u001b[1m400/400\u001b[0m \u001b[32m━━━━━━━━━━━━━━━━━━━━\u001b[0m\u001b[37m\u001b[0m \u001b[1m8s\u001b[0m 21ms/step - accuracy: 0.8143 - loss: 0.0279 - val_accuracy: 0.8121 - val_loss: 0.0307\n",
      "Epoch 31/100\n",
      "\u001b[1m400/400\u001b[0m \u001b[32m━━━━━━━━━━━━━━━━━━━━\u001b[0m\u001b[37m\u001b[0m \u001b[1m8s\u001b[0m 21ms/step - accuracy: 0.8190 - loss: 0.0282 - val_accuracy: 0.8229 - val_loss: 0.0297\n",
      "Epoch 32/100\n",
      "\u001b[1m400/400\u001b[0m \u001b[32m━━━━━━━━━━━━━━━━━━━━\u001b[0m\u001b[37m\u001b[0m \u001b[1m8s\u001b[0m 21ms/step - accuracy: 0.8109 - loss: 0.0274 - val_accuracy: 0.8300 - val_loss: 0.0292\n",
      "Epoch 33/100\n",
      "\u001b[1m400/400\u001b[0m \u001b[32m━━━━━━━━━━━━━━━━━━━━\u001b[0m\u001b[37m\u001b[0m \u001b[1m8s\u001b[0m 21ms/step - accuracy: 0.8003 - loss: 0.0270 - val_accuracy: 0.8145 - val_loss: 0.0304\n",
      "Epoch 34/100\n",
      "\u001b[1m400/400\u001b[0m \u001b[32m━━━━━━━━━━━━━━━━━━━━\u001b[0m\u001b[37m\u001b[0m \u001b[1m8s\u001b[0m 20ms/step - accuracy: 0.8136 - loss: 0.0267 - val_accuracy: 0.7910 - val_loss: 0.0309\n",
      "Epoch 35/100\n",
      "\u001b[1m400/400\u001b[0m \u001b[32m━━━━━━━━━━━━━━━━━━━━\u001b[0m\u001b[37m\u001b[0m \u001b[1m8s\u001b[0m 21ms/step - accuracy: 0.7959 - loss: 0.0265 - val_accuracy: 0.8201 - val_loss: 0.0313\n",
      "Epoch 36/100\n",
      "\u001b[1m400/400\u001b[0m \u001b[32m━━━━━━━━━━━━━━━━━━━━\u001b[0m\u001b[37m\u001b[0m \u001b[1m9s\u001b[0m 22ms/step - accuracy: 0.8120 - loss: 0.0263 - val_accuracy: 0.8201 - val_loss: 0.0297\n",
      "Epoch 37/100\n",
      "\u001b[1m400/400\u001b[0m \u001b[32m━━━━━━━━━━━━━━━━━━━━\u001b[0m\u001b[37m\u001b[0m \u001b[1m9s\u001b[0m 21ms/step - accuracy: 0.8078 - loss: 0.0260 - val_accuracy: 0.8248 - val_loss: 0.0292\n",
      "Epoch 38/100\n",
      "\u001b[1m400/400\u001b[0m \u001b[32m━━━━━━━━━━━━━━━━━━━━\u001b[0m\u001b[37m\u001b[0m \u001b[1m8s\u001b[0m 21ms/step - accuracy: 0.8162 - loss: 0.0275 - val_accuracy: 0.8351 - val_loss: 0.0301\n",
      "Epoch 39/100\n",
      "\u001b[1m400/400\u001b[0m \u001b[32m━━━━━━━━━━━━━━━━━━━━\u001b[0m\u001b[37m\u001b[0m \u001b[1m8s\u001b[0m 21ms/step - accuracy: 0.8127 - loss: 0.0257 - val_accuracy: 0.8140 - val_loss: 0.0284\n",
      "Epoch 40/100\n",
      "\u001b[1m400/400\u001b[0m \u001b[32m━━━━━━━━━━━━━━━━━━━━\u001b[0m\u001b[37m\u001b[0m \u001b[1m8s\u001b[0m 21ms/step - accuracy: 0.8050 - loss: 0.0262 - val_accuracy: 0.7957 - val_loss: 0.0305\n",
      "Epoch 41/100\n",
      "\u001b[1m400/400\u001b[0m \u001b[32m━━━━━━━━━━━━━━━━━━━━\u001b[0m\u001b[37m\u001b[0m \u001b[1m8s\u001b[0m 21ms/step - accuracy: 0.8053 - loss: 0.0255 - val_accuracy: 0.8037 - val_loss: 0.0275\n",
      "Epoch 42/100\n",
      "\u001b[1m400/400\u001b[0m \u001b[32m━━━━━━━━━━━━━━━━━━━━\u001b[0m\u001b[37m\u001b[0m \u001b[1m8s\u001b[0m 21ms/step - accuracy: 0.8043 - loss: 0.0255 - val_accuracy: 0.8055 - val_loss: 0.0296\n",
      "Epoch 43/100\n",
      "\u001b[1m400/400\u001b[0m \u001b[32m━━━━━━━━━━━━━━━━━━━━\u001b[0m\u001b[37m\u001b[0m \u001b[1m8s\u001b[0m 21ms/step - accuracy: 0.8142 - loss: 0.0246 - val_accuracy: 0.8267 - val_loss: 0.0318\n",
      "Epoch 44/100\n",
      "\u001b[1m400/400\u001b[0m \u001b[32m━━━━━━━━━━━━━━━━━━━━\u001b[0m\u001b[37m\u001b[0m \u001b[1m8s\u001b[0m 21ms/step - accuracy: 0.8097 - loss: 0.0246 - val_accuracy: 0.8173 - val_loss: 0.0299\n",
      "Epoch 45/100\n",
      "\u001b[1m400/400\u001b[0m \u001b[32m━━━━━━━━━━━━━━━━━━━━\u001b[0m\u001b[37m\u001b[0m \u001b[1m8s\u001b[0m 21ms/step - accuracy: 0.8063 - loss: 0.0248 - val_accuracy: 0.8210 - val_loss: 0.0283\n",
      "Epoch 46/100\n",
      "\u001b[1m400/400\u001b[0m \u001b[32m━━━━━━━━━━━━━━━━━━━━\u001b[0m\u001b[37m\u001b[0m \u001b[1m8s\u001b[0m 21ms/step - accuracy: 0.8043 - loss: 0.0240 - val_accuracy: 0.8121 - val_loss: 0.0292\n",
      "Epoch 47/100\n",
      "\u001b[1m400/400\u001b[0m \u001b[32m━━━━━━━━━━━━━━━━━━━━\u001b[0m\u001b[37m\u001b[0m \u001b[1m8s\u001b[0m 21ms/step - accuracy: 0.8094 - loss: 0.0241 - val_accuracy: 0.7886 - val_loss: 0.0297\n",
      "Epoch 48/100\n",
      "\u001b[1m400/400\u001b[0m \u001b[32m━━━━━━━━━━━━━━━━━━━━\u001b[0m\u001b[37m\u001b[0m \u001b[1m8s\u001b[0m 20ms/step - accuracy: 0.8081 - loss: 0.0250 - val_accuracy: 0.8107 - val_loss: 0.0293\n",
      "Epoch 49/100\n",
      "\u001b[1m400/400\u001b[0m \u001b[32m━━━━━━━━━━━━━━━━━━━━\u001b[0m\u001b[37m\u001b[0m \u001b[1m8s\u001b[0m 20ms/step - accuracy: 0.7968 - loss: 0.0253 - val_accuracy: 0.8060 - val_loss: 0.0282\n",
      "Epoch 50/100\n",
      "\u001b[1m400/400\u001b[0m \u001b[32m━━━━━━━━━━━━━━━━━━━━\u001b[0m\u001b[37m\u001b[0m \u001b[1m8s\u001b[0m 20ms/step - accuracy: 0.8033 - loss: 0.0242 - val_accuracy: 0.8210 - val_loss: 0.0287\n",
      "Epoch 51/100\n",
      "\u001b[1m400/400\u001b[0m \u001b[32m━━━━━━━━━━━━━━━━━━━━\u001b[0m\u001b[37m\u001b[0m \u001b[1m8s\u001b[0m 21ms/step - accuracy: 0.7958 - loss: 0.0250 - val_accuracy: 0.8107 - val_loss: 0.0304\n",
      "Epoch 52/100\n",
      "\u001b[1m400/400\u001b[0m \u001b[32m━━━━━━━━━━━━━━━━━━━━\u001b[0m\u001b[37m\u001b[0m \u001b[1m8s\u001b[0m 21ms/step - accuracy: 0.7915 - loss: 0.0248 - val_accuracy: 0.8116 - val_loss: 0.0291\n",
      "Epoch 53/100\n",
      "\u001b[1m400/400\u001b[0m \u001b[32m━━━━━━━━━━━━━━━━━━━━\u001b[0m\u001b[37m\u001b[0m \u001b[1m8s\u001b[0m 21ms/step - accuracy: 0.8110 - loss: 0.0244 - val_accuracy: 0.8107 - val_loss: 0.0292\n",
      "Epoch 54/100\n",
      "\u001b[1m400/400\u001b[0m \u001b[32m━━━━━━━━━━━━━━━━━━━━\u001b[0m\u001b[37m\u001b[0m \u001b[1m8s\u001b[0m 21ms/step - accuracy: 0.8138 - loss: 0.0239 - val_accuracy: 0.8154 - val_loss: 0.0323\n",
      "Epoch 55/100\n",
      "\u001b[1m400/400\u001b[0m \u001b[32m━━━━━━━━━━━━━━━━━━━━\u001b[0m\u001b[37m\u001b[0m \u001b[1m8s\u001b[0m 21ms/step - accuracy: 0.8038 - loss: 0.0237 - val_accuracy: 0.8149 - val_loss: 0.0304\n",
      "Epoch 56/100\n",
      "\u001b[1m400/400\u001b[0m \u001b[32m━━━━━━━━━━━━━━━━━━━━\u001b[0m\u001b[37m\u001b[0m \u001b[1m9s\u001b[0m 21ms/step - accuracy: 0.8051 - loss: 0.0237 - val_accuracy: 0.8206 - val_loss: 0.0309\n",
      "Epoch 57/100\n",
      "\u001b[1m400/400\u001b[0m \u001b[32m━━━━━━━━━━━━━━━━━━━━\u001b[0m\u001b[37m\u001b[0m \u001b[1m9s\u001b[0m 21ms/step - accuracy: 0.8183 - loss: 0.0231 - val_accuracy: 0.8145 - val_loss: 0.0291\n",
      "Epoch 58/100\n",
      "\u001b[1m400/400\u001b[0m \u001b[32m━━━━━━━━━━━━━━━━━━━━\u001b[0m\u001b[37m\u001b[0m \u001b[1m8s\u001b[0m 21ms/step - accuracy: 0.8055 - loss: 0.0226 - val_accuracy: 0.7966 - val_loss: 0.0291\n",
      "Epoch 59/100\n",
      "\u001b[1m400/400\u001b[0m \u001b[32m━━━━━━━━━━━━━━━━━━━━\u001b[0m\u001b[37m\u001b[0m \u001b[1m8s\u001b[0m 21ms/step - accuracy: 0.8065 - loss: 0.0237 - val_accuracy: 0.8037 - val_loss: 0.0304\n",
      "Epoch 60/100\n",
      "\u001b[1m400/400\u001b[0m \u001b[32m━━━━━━━━━━━━━━━━━━━━\u001b[0m\u001b[37m\u001b[0m \u001b[1m8s\u001b[0m 21ms/step - accuracy: 0.7996 - loss: 0.0233 - val_accuracy: 0.8027 - val_loss: 0.0298\n",
      "Epoch 61/100\n",
      "\u001b[1m400/400\u001b[0m \u001b[32m━━━━━━━━━━━━━━━━━━━━\u001b[0m\u001b[37m\u001b[0m \u001b[1m8s\u001b[0m 21ms/step - accuracy: 0.7915 - loss: 0.0250 - val_accuracy: 0.8074 - val_loss: 0.0291\n",
      "Epoch 62/100\n",
      "\u001b[1m400/400\u001b[0m \u001b[32m━━━━━━━━━━━━━━━━━━━━\u001b[0m\u001b[37m\u001b[0m \u001b[1m8s\u001b[0m 21ms/step - accuracy: 0.7891 - loss: 0.0230 - val_accuracy: 0.8154 - val_loss: 0.0305\n",
      "Epoch 63/100\n",
      "\u001b[1m400/400\u001b[0m \u001b[32m━━━━━━━━━━━━━━━━━━━━\u001b[0m\u001b[37m\u001b[0m \u001b[1m8s\u001b[0m 21ms/step - accuracy: 0.8025 - loss: 0.0250 - val_accuracy: 0.7971 - val_loss: 0.0304\n",
      "Epoch 64/100\n",
      "\u001b[1m400/400\u001b[0m \u001b[32m━━━━━━━━━━━━━━━━━━━━\u001b[0m\u001b[37m\u001b[0m \u001b[1m8s\u001b[0m 21ms/step - accuracy: 0.7887 - loss: 0.0224 - val_accuracy: 0.7933 - val_loss: 0.0306\n",
      "Epoch 65/100\n",
      "\u001b[1m400/400\u001b[0m \u001b[32m━━━━━━━━━━━━━━━━━━━━\u001b[0m\u001b[37m\u001b[0m \u001b[1m8s\u001b[0m 21ms/step - accuracy: 0.7851 - loss: 0.0235 - val_accuracy: 0.8248 - val_loss: 0.0305\n",
      "Epoch 66/100\n",
      "\u001b[1m400/400\u001b[0m \u001b[32m━━━━━━━━━━━━━━━━━━━━\u001b[0m\u001b[37m\u001b[0m \u001b[1m8s\u001b[0m 21ms/step - accuracy: 0.7950 - loss: 0.0228 - val_accuracy: 0.7966 - val_loss: 0.0298\n",
      "Epoch 67/100\n",
      "\u001b[1m400/400\u001b[0m \u001b[32m━━━━━━━━━━━━━━━━━━━━\u001b[0m\u001b[37m\u001b[0m \u001b[1m8s\u001b[0m 21ms/step - accuracy: 0.7998 - loss: 0.0227 - val_accuracy: 0.8070 - val_loss: 0.0321\n",
      "Epoch 68/100\n",
      "\u001b[1m400/400\u001b[0m \u001b[32m━━━━━━━━━━━━━━━━━━━━\u001b[0m\u001b[37m\u001b[0m \u001b[1m8s\u001b[0m 21ms/step - accuracy: 0.7955 - loss: 0.0234 - val_accuracy: 0.8271 - val_loss: 0.0313\n",
      "Epoch 69/100\n",
      "\u001b[1m400/400\u001b[0m \u001b[32m━━━━━━━━━━━━━━━━━━━━\u001b[0m\u001b[37m\u001b[0m \u001b[1m8s\u001b[0m 21ms/step - accuracy: 0.8023 - loss: 0.0223 - val_accuracy: 0.8168 - val_loss: 0.0302\n",
      "Epoch 70/100\n",
      "\u001b[1m400/400\u001b[0m \u001b[32m━━━━━━━━━━━━━━━━━━━━\u001b[0m\u001b[37m\u001b[0m \u001b[1m8s\u001b[0m 21ms/step - accuracy: 0.8083 - loss: 0.0224 - val_accuracy: 0.8004 - val_loss: 0.0335\n",
      "Epoch 71/100\n",
      "\u001b[1m400/400\u001b[0m \u001b[32m━━━━━━━━━━━━━━━━━━━━\u001b[0m\u001b[37m\u001b[0m \u001b[1m8s\u001b[0m 21ms/step - accuracy: 0.8008 - loss: 0.0239 - val_accuracy: 0.7915 - val_loss: 0.0316\n",
      "Epoch 72/100\n",
      "\u001b[1m400/400\u001b[0m \u001b[32m━━━━━━━━━━━━━━━━━━━━\u001b[0m\u001b[37m\u001b[0m \u001b[1m8s\u001b[0m 21ms/step - accuracy: 0.7974 - loss: 0.0219 - val_accuracy: 0.8112 - val_loss: 0.0308\n",
      "Epoch 73/100\n",
      "\u001b[1m400/400\u001b[0m \u001b[32m━━━━━━━━━━━━━━━━━━━━\u001b[0m\u001b[37m\u001b[0m \u001b[1m8s\u001b[0m 21ms/step - accuracy: 0.7980 - loss: 0.0215 - val_accuracy: 0.7929 - val_loss: 0.0330\n",
      "Epoch 74/100\n",
      "\u001b[1m400/400\u001b[0m \u001b[32m━━━━━━━━━━━━━━━━━━━━\u001b[0m\u001b[37m\u001b[0m \u001b[1m9s\u001b[0m 21ms/step - accuracy: 0.7995 - loss: 0.0245 - val_accuracy: 0.8032 - val_loss: 0.0334\n",
      "Epoch 75/100\n",
      "\u001b[1m400/400\u001b[0m \u001b[32m━━━━━━━━━━━━━━━━━━━━\u001b[0m\u001b[37m\u001b[0m \u001b[1m8s\u001b[0m 21ms/step - accuracy: 0.8003 - loss: 0.0228 - val_accuracy: 0.8304 - val_loss: 0.0316\n",
      "Epoch 76/100\n",
      "\u001b[1m400/400\u001b[0m \u001b[32m━━━━━━━━━━━━━━━━━━━━\u001b[0m\u001b[37m\u001b[0m \u001b[1m9s\u001b[0m 21ms/step - accuracy: 0.8007 - loss: 0.0218 - val_accuracy: 0.7971 - val_loss: 0.0307\n",
      "Epoch 77/100\n",
      "\u001b[1m400/400\u001b[0m \u001b[32m━━━━━━━━━━━━━━━━━━━━\u001b[0m\u001b[37m\u001b[0m \u001b[1m9s\u001b[0m 21ms/step - accuracy: 0.7995 - loss: 0.0225 - val_accuracy: 0.8154 - val_loss: 0.0299\n",
      "Epoch 78/100\n",
      "\u001b[1m400/400\u001b[0m \u001b[32m━━━━━━━━━━━━━━━━━━━━\u001b[0m\u001b[37m\u001b[0m \u001b[1m8s\u001b[0m 21ms/step - accuracy: 0.7947 - loss: 0.0231 - val_accuracy: 0.8027 - val_loss: 0.0305\n",
      "Epoch 79/100\n",
      "\u001b[1m400/400\u001b[0m \u001b[32m━━━━━━━━━━━━━━━━━━━━\u001b[0m\u001b[37m\u001b[0m \u001b[1m8s\u001b[0m 21ms/step - accuracy: 0.7995 - loss: 0.0229 - val_accuracy: 0.8126 - val_loss: 0.0311\n",
      "Epoch 80/100\n",
      "\u001b[1m400/400\u001b[0m \u001b[32m━━━━━━━━━━━━━━━━━━━━\u001b[0m\u001b[37m\u001b[0m \u001b[1m8s\u001b[0m 21ms/step - accuracy: 0.8015 - loss: 0.0222 - val_accuracy: 0.7990 - val_loss: 0.0327\n",
      "Epoch 81/100\n",
      "\u001b[1m400/400\u001b[0m \u001b[32m━━━━━━━━━━━━━━━━━━━━\u001b[0m\u001b[37m\u001b[0m \u001b[1m8s\u001b[0m 21ms/step - accuracy: 0.7852 - loss: 0.0213 - val_accuracy: 0.8098 - val_loss: 0.0329\n",
      "Epoch 82/100\n",
      "\u001b[1m400/400\u001b[0m \u001b[32m━━━━━━━━━━━━━━━━━━━━\u001b[0m\u001b[37m\u001b[0m \u001b[1m8s\u001b[0m 21ms/step - accuracy: 0.7972 - loss: 0.0215 - val_accuracy: 0.7830 - val_loss: 0.0311\n",
      "Epoch 83/100\n",
      "\u001b[1m400/400\u001b[0m \u001b[32m━━━━━━━━━━━━━━━━━━━━\u001b[0m\u001b[37m\u001b[0m \u001b[1m9s\u001b[0m 21ms/step - accuracy: 0.8006 - loss: 0.0228 - val_accuracy: 0.8121 - val_loss: 0.0290\n",
      "Epoch 84/100\n",
      "\u001b[1m400/400\u001b[0m \u001b[32m━━━━━━━━━━━━━━━━━━━━\u001b[0m\u001b[37m\u001b[0m \u001b[1m9s\u001b[0m 22ms/step - accuracy: 0.7951 - loss: 0.0212 - val_accuracy: 0.7943 - val_loss: 0.0307\n",
      "Epoch 85/100\n",
      "\u001b[1m400/400\u001b[0m \u001b[32m━━━━━━━━━━━━━━━━━━━━\u001b[0m\u001b[37m\u001b[0m \u001b[1m9s\u001b[0m 21ms/step - accuracy: 0.8046 - loss: 0.0220 - val_accuracy: 0.7933 - val_loss: 0.0318\n",
      "Epoch 86/100\n",
      "\u001b[1m400/400\u001b[0m \u001b[32m━━━━━━━━━━━━━━━━━━━━\u001b[0m\u001b[37m\u001b[0m \u001b[1m8s\u001b[0m 21ms/step - accuracy: 0.7839 - loss: 0.0236 - val_accuracy: 0.7891 - val_loss: 0.0323\n",
      "Epoch 87/100\n",
      "\u001b[1m400/400\u001b[0m \u001b[32m━━━━━━━━━━━━━━━━━━━━\u001b[0m\u001b[37m\u001b[0m \u001b[1m8s\u001b[0m 21ms/step - accuracy: 0.8024 - loss: 0.0219 - val_accuracy: 0.7999 - val_loss: 0.0314\n",
      "Epoch 88/100\n",
      "\u001b[1m400/400\u001b[0m \u001b[32m━━━━━━━━━━━━━━━━━━━━\u001b[0m\u001b[37m\u001b[0m \u001b[1m8s\u001b[0m 21ms/step - accuracy: 0.7970 - loss: 0.0226 - val_accuracy: 0.8041 - val_loss: 0.0377\n",
      "Epoch 89/100\n",
      "\u001b[1m400/400\u001b[0m \u001b[32m━━━━━━━━━━━━━━━━━━━━\u001b[0m\u001b[37m\u001b[0m \u001b[1m8s\u001b[0m 21ms/step - accuracy: 0.7969 - loss: 0.0216 - val_accuracy: 0.7778 - val_loss: 0.0319\n",
      "Epoch 90/100\n",
      "\u001b[1m400/400\u001b[0m \u001b[32m━━━━━━━━━━━━━━━━━━━━\u001b[0m\u001b[37m\u001b[0m \u001b[1m8s\u001b[0m 21ms/step - accuracy: 0.7913 - loss: 0.0222 - val_accuracy: 0.7811 - val_loss: 0.0326\n",
      "Epoch 91/100\n",
      "\u001b[1m400/400\u001b[0m \u001b[32m━━━━━━━━━━━━━━━━━━━━\u001b[0m\u001b[37m\u001b[0m \u001b[1m8s\u001b[0m 21ms/step - accuracy: 0.7887 - loss: 0.0229 - val_accuracy: 0.8060 - val_loss: 0.0336\n",
      "Epoch 92/100\n",
      "\u001b[1m400/400\u001b[0m \u001b[32m━━━━━━━━━━━━━━━━━━━━\u001b[0m\u001b[37m\u001b[0m \u001b[1m8s\u001b[0m 21ms/step - accuracy: 0.8060 - loss: 0.0213 - val_accuracy: 0.8135 - val_loss: 0.0306\n",
      "Epoch 93/100\n",
      "\u001b[1m400/400\u001b[0m \u001b[32m━━━━━━━━━━━━━━━━━━━━\u001b[0m\u001b[37m\u001b[0m \u001b[1m8s\u001b[0m 21ms/step - accuracy: 0.7969 - loss: 0.0207 - val_accuracy: 0.8060 - val_loss: 0.0320\n",
      "Epoch 94/100\n",
      "\u001b[1m400/400\u001b[0m \u001b[32m━━━━━━━━━━━━━━━━━━━━\u001b[0m\u001b[37m\u001b[0m \u001b[1m8s\u001b[0m 21ms/step - accuracy: 0.8035 - loss: 0.0211 - val_accuracy: 0.8055 - val_loss: 0.0320\n",
      "Epoch 95/100\n",
      "\u001b[1m400/400\u001b[0m \u001b[32m━━━━━━━━━━━━━━━━━━━━\u001b[0m\u001b[37m\u001b[0m \u001b[1m8s\u001b[0m 21ms/step - accuracy: 0.8072 - loss: 0.0212 - val_accuracy: 0.7976 - val_loss: 0.0318\n",
      "Epoch 96/100\n",
      "\u001b[1m400/400\u001b[0m \u001b[32m━━━━━━━━━━━━━━━━━━━━\u001b[0m\u001b[37m\u001b[0m \u001b[1m8s\u001b[0m 21ms/step - accuracy: 0.7974 - loss: 0.0212 - val_accuracy: 0.7999 - val_loss: 0.0333\n",
      "Epoch 97/100\n",
      "\u001b[1m400/400\u001b[0m \u001b[32m━━━━━━━━━━━━━━━━━━━━\u001b[0m\u001b[37m\u001b[0m \u001b[1m8s\u001b[0m 21ms/step - accuracy: 0.8004 - loss: 0.0211 - val_accuracy: 0.8107 - val_loss: 0.0315\n",
      "Epoch 98/100\n",
      "\u001b[1m400/400\u001b[0m \u001b[32m━━━━━━━━━━━━━━━━━━━━\u001b[0m\u001b[37m\u001b[0m \u001b[1m8s\u001b[0m 21ms/step - accuracy: 0.7878 - loss: 0.0210 - val_accuracy: 0.8060 - val_loss: 0.0324\n",
      "Epoch 99/100\n",
      "\u001b[1m400/400\u001b[0m \u001b[32m━━━━━━━━━━━━━━━━━━━━\u001b[0m\u001b[37m\u001b[0m \u001b[1m8s\u001b[0m 21ms/step - accuracy: 0.7940 - loss: 0.0210 - val_accuracy: 0.7844 - val_loss: 0.0319\n",
      "Epoch 100/100\n",
      "\u001b[1m400/400\u001b[0m \u001b[32m━━━━━━━━━━━━━━━━━━━━\u001b[0m\u001b[37m\u001b[0m \u001b[1m8s\u001b[0m 21ms/step - accuracy: 0.7691 - loss: 0.0208 - val_accuracy: 0.7731 - val_loss: 0.0340\n"
     ]
    }
   ],
   "source": [
    "# Fit and train model\n",
    "fitted = model.fit(x_train, y_train, epochs=50, validation_data=(x_test, y_test), batch_size=16)"
   ]
  },
  {
   "cell_type": "code",
   "execution_count": 43,
   "metadata": {
    "colab": {
     "base_uri": "https://localhost:8080/",
     "height": 927
    },
    "id": "qfWVW2vxnmsB",
    "outputId": "42ad5544-a510-45d0-d5cf-1b66de6dcc51"
   },
   "outputs": [
    {
     "data": {
      "image/png": "[encoded data removed]",
      "text/plain": [
       "<Figure size 640x480 with 1 Axes>"
      ]
     },
     "metadata": {},
     "output_type": "display_data"
    },
    {
     "data": {
      "image/png": "[encoded data removed]",
      "text/plain": [
       "<Figure size 640x480 with 1 Axes>"
      ]
     },
     "metadata": {},
     "output_type": "display_data"
    }
   ],
   "source": [
    "#plot the training and validation accuracy and loss at each epoch\n",
    "loss = fitted.history['loss']\n",
    "val_loss = fitted.history['val_loss']\n",
    "epochs = range(1, len(loss) + 1)\n",
    "plt.plot(epochs, loss, 'y', label='Training loss')\n",
    "plt.plot(epochs, val_loss, 'r', label='Validation loss')\n",
    "plt.title('Training and validation loss')\n",
    "plt.xlabel('Epochs')\n",
    "plt.ylabel('Loss')\n",
    "plt.legend()\n",
    "plt.show()\n",
    "\n",
    "\n",
    "acc = fitted.history['accuracy']\n",
    "val_acc = fitted.history['val_accuracy']\n",
    "plt.plot(epochs, acc, 'y', label='Training acc')\n",
    "plt.plot(epochs, val_acc, 'r', label='Validation acc')\n",
    "plt.title('Training and validation accuracy')\n",
    "plt.xlabel('Epochs')\n",
    "plt.ylabel('Accuracy')\n",
    "plt.legend()\n",
    "plt.ylim(0.6,1)\n",
    "plt.show()"
   ]
  },
  {
   "cell_type": "code",
   "execution_count": null,
   "metadata": {},
   "outputs": [
    {
     "name": "stderr",
     "output_type": "stream",
     "text": [
      "WARNING:absl:You are saving your model as an HDF5 file via `model.save()` or `keras.saving.save_model(model)`. This file format is considered legacy. We recommend using instead the native Keras format, e.g. `model.save('my_model.keras')` or `keras.saving.save_model(model, 'my_model.keras')`. \n"
     ]
    }
   ],
   "source": [
    "# Save Model\n",
    "\n",
    "\n",
    "#model.save(\"models/model.h5\")\n"
   ]
  },
  {
   "cell_type": "markdown",
   "metadata": {
    "id": "xrhHel6z-Ty2"
   },
   "source": [
    "# Data Analysis"
   ]
  },
  {
   "cell_type": "code",
   "execution_count": null,
   "metadata": {
    "id": "1mccN-zSSAM0"
   },
   "outputs": [],
   "source": [
    "# Create Y prediction dataset from model predictions and collecting Y true values from original dataset\n",
    "y_pred = model.predict(x_test)\n",
    "\n",
    "y_pred = np.round(y_pred)\n",
    "y_true = np.array(y_test)\n"
   ]
  },
  {
   "cell_type": "code",
   "execution_count": null,
   "metadata": {
    "id": "ukb3zo3A4lCb"
   },
   "outputs": [],
   "source": [
    "# Confusion matrix creation\n",
    "mlconf = multilabel_confusion_matrix(y_true, y_pred)\n",
    "hamloss = hamming_loss(y_true,y_pred)\n",
    "\n",
    "disp = ConfusionMatrixDisplay(confusion_matrix=mlconf[0])\n",
    "# print(mlconf)\n",
    "disp.plot()\n",
    "plt.show()\n",
    "\n",
    "label_names = ['GO:0090729', 'GO:0005179', 'GO:0016829',\n",
    "       'GO:0046872', 'GO:0008081', 'GO:0004867', 'GO:0099106', 'GO:0015459',\n",
    "       'GO:0004252', 'GO:0005246', 'GO:0004623', 'GO:0005509', 'GO:0008200',\n",
    "       'GO:0017080', 'GO:0019834', 'GO:0008270', 'GO:0030550', 'GO:0004222',\n",
    "       'GO:0052740', 'GO:0052739', 'GO:0008970', 'GO:0050025', 'GO:0050029',\n",
    "       'GO:0106329', 'GO:0008191', 'GO:0004620', 'GO:0008233', 'GO:0016504',\n",
    "       'GO:0060422', 'GO:0000166', 'GO:0106411', 'GO:0000287', 'GO:0008237',\n",
    "       'GO:0005102', 'GO:0005216', 'GO:0008201', 'GO:0008236', 'GO:0008289',\n",
    "       'GO:0019870', 'GO:0019871', 'GO:0004465', 'GO:0016491', 'GO:0042802',\n",
    "       'GO:0047498', 'GO:0048018', 'GO:0001515', 'GO:0001716', 'GO:0042803',\n",
    "       'GO:0003677', 'GO:0050660', 'GO:0003990', 'GO:0003993', 'GO:0004175',\n",
    "       'GO:0004177', 'GO:0004415', 'GO:0008239', 'GO:0004556', 'GO:0004860',\n",
    "       'GO:0004866', 'GO:0004869', 'GO:0005154', 'GO:0005184', 'GO:0005185',\n",
    "       'GO:0005507', 'GO:0005516', 'GO:0005520', 'GO:0005534', 'GO:0030395',\n",
    "       'GO:0033296', 'GO:0008061', 'GO:0008083', 'GO:0016603', 'GO:0016787',\n",
    "       'GO:0019855', 'GO:0003676', 'GO:0016853', 'GO:0017081', 'GO:0044325',\n",
    "       'GO:0030246', 'GO:0030414', 'GO:0033906', 'GO:0043262', 'GO:0048019',\n",
    "       'GO:0070320', 'GO:0080030', 'GO:0140628']\n",
    "\n",
    "\n",
    "# Classification report, returns precision, recall, F1 score for each class\n",
    "print(classification_report(y_true, y_pred,target_names=label_names, zero_division=0))"
   ]
  },
  {
   "cell_type": "markdown",
   "metadata": {
    "id": "lqioKmtgolRU"
   },
   "source": [
    "MODEL OUTPUT"
   ]
  },
  {
   "cell_type": "code",
   "execution_count": null,
   "metadata": {
    "id": "MLacRdh5nmFO"
   },
   "outputs": [],
   "source": [
    "# Encode inputted sequence\n",
    "classes = np.array(df.columns[3:])\n",
    "test_sequence = test_encode('MVSRYVPDMGDLIWVDFDPTKGSEQAGHRPAVVLSPFMYNNKTGMCLCVPCTTQSKGYPFEVVLSGQERDGVALADQVKSIAWRARGATKKGTVAPEELQLIKAKINVLIG')\n",
    "\n",
    "# Predict molecular function classes and get top 10\n",
    "proba = model.predict(test_sequence)\n",
    "sorted_categories = np.argsort(proba[0])[:-11:-1]\n",
    "\n",
    "\n",
    "# Output\n",
    "for i in range(10):\n",
    "    print(\"{}\".format(classes[sorted_categories[i]])+\" ({:.3})\".format(proba[0][sorted_categories[i]]))"
   ]
  },
  {
   "cell_type": "markdown",
   "metadata": {
    "id": "bcIzpwToJnVM"
   },
   "source": [
    "# Saved Model Testing\n",
    "\n"
   ]
  },
  {
   "cell_type": "code",
   "execution_count": null,
   "metadata": {
    "id": "CMfAtj1yJrKP"
   },
   "outputs": [],
   "source": [
    "# Importing saved HDF5 file of the model\n",
    "nmodel = tf.keras.models.load_model('/content/drive/MyDrive/ML Models/venomics.hdf5')"
   ]
  },
  {
   "cell_type": "code",
   "execution_count": null,
   "metadata": {
    "colab": {
     "base_uri": "https://localhost:8080/"
    },
    "id": "sBPeHIjoJx4b",
    "outputId": "c0616b5e-20bc-48b6-8807-d92c004d0639"
   },
   "outputs": [
    {
     "name": "stdout",
     "output_type": "stream",
     "text": [
      "67/67 [==============================] - 2s 3ms/step - loss: 0.0044 - accuracy: 0.9671\n"
     ]
    },
    {
     "data": {
      "text/plain": [
       "[0.004387811291962862, 0.9671207070350647]"
      ]
     },
     "execution_count": 11,
     "metadata": {},
     "output_type": "execute_result"
    }
   ],
   "source": [
    "# Testing to ensure saved model has same accuracy\n",
    "nmodel.evaluate(x_test, y_test)"
   ]
  },
  {
   "cell_type": "markdown",
   "metadata": {
    "id": "j6iIlTGzqV-J"
   },
   "source": [
    "**MODEL OUTPUT**"
   ]
  },
  {
   "cell_type": "code",
   "execution_count": null,
   "metadata": {
    "colab": {
     "base_uri": "https://localhost:8080/"
    },
    "id": "we_jXk0ZJx1k",
    "outputId": "d6ccf3c2-3a5e-482b-e94a-67cb4ebee273"
   },
   "outputs": [
    {
     "name": "stdout",
     "output_type": "stream",
     "text": [
      "1/1 [==============================] - 0s 24ms/step\n",
      "\n",
      "Amino Acid Sequence: MNFKYSILFICFGTLDRGLI...\n",
      "\n",
      "Predicted Molecular Functions: \n",
      "GO:0052740 (0.985)\n",
      "GO:0008970 (0.985)\n",
      "GO:0052739 (0.985)\n",
      "GO:0090729 (0.118)\n",
      "GO:0004623 (0.0722)\n",
      "GO:0005509 (0.00246)\n",
      "GO:0004415 (0.00145)\n",
      "GO:0008201 (0.000674)\n",
      "GO:0042802 (0.000143)\n",
      "GO:0003677 (0.000128)\n"
     ]
    }
   ],
   "source": [
    "# Encode inputted sequence\n",
    "classes = np.array(df.columns[3:])\n",
    "seq = 'MNFKYSILFICFGTLDRGLIPECPFNEYDILFFVYTRQQRDGIVLTEETLQNYDLFKKSTISRQVVFIDHGFLSNGNNENFIAMAKALIEKDNFLVISVDWKKGACNAFASTLDYLGYSTAVGNTRHVGKYVADFTKLLVEQYKVSMSNIRLIGHSLGAHTSGFAGKEVQELKLNKYSNIDGLDPAGPSFDSNDCPERLCETDAEYVQIIHTSNILGVYSKIGTVDFYMNYGSHQPGCGRFFSPSCSHTKAVKYLTECIKHECCLIGTPWKKYFSTPKPISQCTKDTCVCVGLNAKSYPARGSFYVPVEATAPYCHNEGIKL'\n",
    "test_sequence = test_encode(seq)\n",
    "\n",
    "# Predict molecular function classes and get top 10\n",
    "proba = nmodel.predict(test_sequence)\n",
    "sorted_categories = np.argsort(proba[0])[:-11:-1]\n",
    "\n",
    "# Output\n",
    "print()\n",
    "print(\"Amino Acid Sequence: \"+seq[0:20]+\"...\")\n",
    "print()\n",
    "print(\"Predicted Molecular Functions: \")\n",
    "for i in range(10):\n",
    "    print(\"{}\".format(classes[sorted_categories[i]])+\" ({:.3})\".format(proba[0][sorted_categories[i]]))"
   ]
  },
  {
   "cell_type": "markdown",
   "metadata": {
    "id": "ObNqMMpSqjZ8"
   },
   "source": [
    "**Extra Data Analysis and Testing**"
   ]
  },
  {
   "cell_type": "code",
   "execution_count": null,
   "metadata": {
    "colab": {
     "base_uri": "https://localhost:8080/"
    },
    "id": "61NPKb8xJxvE",
    "outputId": "876c2fab-37dd-4d85-e9cb-2e415ba8e6e4"
   },
   "outputs": [
    {
     "name": "stdout",
     "output_type": "stream",
     "text": [
      "67/67 [==============================] - 3s 2ms/step\n"
     ]
    }
   ],
   "source": [
    "y_pred = nmodel.predict(x_test)\n",
    "\n",
    "y_pred = np.round(y_pred)\n",
    "y_true = np.array(y_test)\n"
   ]
  },
  {
   "cell_type": "code",
   "execution_count": null,
   "metadata": {
    "colab": {
     "base_uri": "https://localhost:8080/",
     "height": 1000
    },
    "id": "t5x9L0vwJxsZ",
    "outputId": "39af21a3-0c58-4e02-8d01-d301737c9b21"
   },
   "outputs": [
    {
     "name": "stdout",
     "output_type": "stream",
     "text": [
      "[[[ 435   17]\n",
      "  [  16 1661]]\n",
      "\n",
      " [[2095    1]\n",
      "  [   2   31]]\n",
      "\n",
      " [[2080    0]\n",
      "  [   0   49]]\n",
      "\n",
      " [[1960    1]\n",
      "  [   8  160]]\n",
      "\n",
      " [[2080    1]\n",
      "  [   0   48]]\n",
      "\n",
      " [[2054    0]\n",
      "  [   1   74]]\n",
      "\n",
      " [[1928    3]\n",
      "  [   9  189]]\n",
      "\n",
      " [[1949    2]\n",
      "  [  13  165]]\n",
      "\n",
      " [[2084    0]\n",
      "  [   2   43]]\n",
      "\n",
      " [[2052    1]\n",
      "  [   8   68]]\n",
      "\n",
      " [[1997    1]\n",
      "  [   1  130]]\n",
      "\n",
      " [[2008    0]\n",
      "  [   2  119]]\n",
      "\n",
      " [[1904    3]\n",
      "  [   4  218]]\n",
      "\n",
      " [[2039    1]\n",
      "  [   4   85]]\n",
      "\n",
      " [[2127    0]\n",
      "  [   2    0]]\n",
      "\n",
      " [[2121    0]\n",
      "  [   3    5]]\n",
      "\n",
      " [[1985    3]\n",
      "  [   3  138]]\n",
      "\n",
      " [[2087    0]\n",
      "  [   2   40]]\n",
      "\n",
      " [[2121    0]\n",
      "  [   0    8]]\n",
      "\n",
      " [[2121    0]\n",
      "  [   0    8]]\n",
      "\n",
      " [[2121    0]\n",
      "  [   0    8]]\n",
      "\n",
      " [[2129    0]\n",
      "  [   0    0]]\n",
      "\n",
      " [[2129    0]\n",
      "  [   0    0]]\n",
      "\n",
      " [[2121    0]\n",
      "  [   8    0]]\n",
      "\n",
      " [[2112    0]\n",
      "  [   3   14]]\n",
      "\n",
      " [[2129    0]\n",
      "  [   0    0]]\n",
      "\n",
      " [[2127    0]\n",
      "  [   2    0]]\n",
      "\n",
      " [[2117    0]\n",
      "  [   7    5]]\n",
      "\n",
      " [[2128    0]\n",
      "  [   1    0]]\n",
      "\n",
      " [[2126    0]\n",
      "  [   3    0]]\n",
      "\n",
      " [[2127    0]\n",
      "  [   2    0]]\n",
      "\n",
      " [[2129    0]\n",
      "  [   0    0]]\n",
      "\n",
      " [[2116    0]\n",
      "  [   2   11]]\n",
      "\n",
      " [[2127    0]\n",
      "  [   2    0]]\n",
      "\n",
      " [[2129    0]\n",
      "  [   0    0]]\n",
      "\n",
      " [[2129    0]\n",
      "  [   0    0]]\n",
      "\n",
      " [[2116    0]\n",
      "  [   2   11]]\n",
      "\n",
      " [[2121    0]\n",
      "  [   4    4]]\n",
      "\n",
      " [[2115    0]\n",
      "  [   3   11]]\n",
      "\n",
      " [[1988    0]\n",
      "  [   2  139]]\n",
      "\n",
      " [[2129    0]\n",
      "  [   0    0]]\n",
      "\n",
      " [[2126    0]\n",
      "  [   3    0]]\n",
      "\n",
      " [[2124    0]\n",
      "  [   5    0]]\n",
      "\n",
      " [[2129    0]\n",
      "  [   0    0]]\n",
      "\n",
      " [[2129    0]\n",
      "  [   0    0]]\n",
      "\n",
      " [[2129    0]\n",
      "  [   0    0]]\n",
      "\n",
      " [[2114    4]\n",
      "  [   5    6]]\n",
      "\n",
      " [[2126    0]\n",
      "  [   3    0]]\n",
      "\n",
      " [[2118    0]\n",
      "  [   1   10]]\n",
      "\n",
      " [[2127    0]\n",
      "  [   2    0]]\n",
      "\n",
      " [[2127    0]\n",
      "  [   2    0]]\n",
      "\n",
      " [[2128    0]\n",
      "  [   1    0]]\n",
      "\n",
      " [[2129    0]\n",
      "  [   0    0]]\n",
      "\n",
      " [[2128    0]\n",
      "  [   1    0]]\n",
      "\n",
      " [[2122    0]\n",
      "  [   2    5]]\n",
      "\n",
      " [[2128    0]\n",
      "  [   1    0]]\n",
      "\n",
      " [[2129    0]\n",
      "  [   0    0]]\n",
      "\n",
      " [[2126    0]\n",
      "  [   3    0]]\n",
      "\n",
      " [[2129    0]\n",
      "  [   0    0]]\n",
      "\n",
      " [[2124    0]\n",
      "  [   0    5]]\n",
      "\n",
      " [[2129    0]\n",
      "  [   0    0]]\n",
      "\n",
      " [[2128    0]\n",
      "  [   1    0]]\n",
      "\n",
      " [[2129    0]\n",
      "  [   0    0]]\n",
      "\n",
      " [[2125    0]\n",
      "  [   0    4]]\n",
      "\n",
      " [[2125    0]\n",
      "  [   4    0]]\n",
      "\n",
      " [[2129    0]\n",
      "  [   0    0]]\n",
      "\n",
      " [[2129    0]\n",
      "  [   0    0]]\n",
      "\n",
      " [[2129    0]\n",
      "  [   0    0]]\n",
      "\n",
      " [[2129    0]\n",
      "  [   0    0]]\n",
      "\n",
      " [[2127    0]\n",
      "  [   2    0]]\n",
      "\n",
      " [[2118    0]\n",
      "  [   2    9]]\n",
      "\n",
      " [[2129    0]\n",
      "  [   0    0]]\n",
      "\n",
      " [[2128    0]\n",
      "  [   1    0]]\n",
      "\n",
      " [[2109    1]\n",
      "  [   2   17]]\n",
      "\n",
      " [[2126    0]\n",
      "  [   1    2]]\n",
      "\n",
      " [[2129    0]\n",
      "  [   0    0]]\n",
      "\n",
      " [[2122    0]\n",
      "  [   1    6]]\n",
      "\n",
      " [[2129    0]\n",
      "  [   0    0]]\n",
      "\n",
      " [[2113    0]\n",
      "  [   2   14]]\n",
      "\n",
      " [[2119    0]\n",
      "  [   1    9]]\n",
      "\n",
      " [[2128    0]\n",
      "  [   1    0]]\n",
      "\n",
      " [[2127    0]\n",
      "  [   0    2]]\n",
      "\n",
      " [[2129    0]\n",
      "  [   0    0]]\n",
      "\n",
      " [[2129    0]\n",
      "  [   0    0]]\n",
      "\n",
      " [[2129    0]\n",
      "  [   0    0]]\n",
      "\n",
      " [[2129    0]\n",
      "  [   0    0]]]\n"
     ]
    },
    {
     "data": {
      "image/png": "[encoded data removed]",
      "text/plain": [
       "<Figure size 432x288 with 2 Axes>"
      ]
     },
     "metadata": {
      "needs_background": "light"
     },
     "output_type": "display_data"
    },
    {
     "name": "stdout",
     "output_type": "stream",
     "text": [
      "              precision    recall  f1-score   support\n",
      "\n",
      "  GO:0090729       0.99      0.99      0.99      1677\n",
      "  GO:0005179       0.97      0.94      0.95        33\n",
      "  GO:0016829       1.00      1.00      1.00        49\n",
      "  GO:0046872       0.99      0.95      0.97       168\n",
      "  GO:0008081       0.98      1.00      0.99        48\n",
      "  GO:0004867       1.00      0.99      0.99        75\n",
      "  GO:0099106       0.98      0.95      0.97       198\n",
      "  GO:0015459       0.99      0.93      0.96       178\n",
      "  GO:0004252       1.00      0.96      0.98        45\n",
      "  GO:0005246       0.99      0.89      0.94        76\n",
      "  GO:0004623       0.99      0.99      0.99       131\n",
      "  GO:0005509       1.00      0.98      0.99       121\n",
      "  GO:0008200       0.99      0.98      0.98       222\n",
      "  GO:0017080       0.99      0.96      0.97        89\n",
      "  GO:0019834       0.00      0.00      0.00         2\n",
      "  GO:0008270       1.00      0.62      0.77         8\n",
      "  GO:0030550       0.98      0.98      0.98       141\n",
      "  GO:0004222       1.00      0.95      0.98        42\n",
      "  GO:0052740       1.00      1.00      1.00         8\n",
      "  GO:0052739       1.00      1.00      1.00         8\n",
      "  GO:0008970       1.00      1.00      1.00         8\n",
      "  GO:0050025       0.00      0.00      0.00         0\n",
      "  GO:0050029       0.00      0.00      0.00         0\n",
      "  GO:0106329       0.00      0.00      0.00         8\n",
      "  GO:0008191       1.00      0.82      0.90        17\n",
      "  GO:0004620       0.00      0.00      0.00         0\n",
      "  GO:0008233       0.00      0.00      0.00         2\n",
      "  GO:0016504       1.00      0.42      0.59        12\n",
      "  GO:0060422       0.00      0.00      0.00         1\n",
      "  GO:0000166       0.00      0.00      0.00         3\n",
      "  GO:0106411       0.00      0.00      0.00         2\n",
      "  GO:0000287       0.00      0.00      0.00         0\n",
      "  GO:0008237       1.00      0.85      0.92        13\n",
      "  GO:0005102       0.00      0.00      0.00         2\n",
      "  GO:0005216       0.00      0.00      0.00         0\n",
      "  GO:0008201       0.00      0.00      0.00         0\n",
      "  GO:0008236       1.00      0.85      0.92        13\n",
      "  GO:0008289       1.00      0.50      0.67         8\n",
      "  GO:0019870       1.00      0.79      0.88        14\n",
      "  GO:0019871       1.00      0.99      0.99       141\n",
      "  GO:0004465       0.00      0.00      0.00         0\n",
      "  GO:0016491       0.00      0.00      0.00         3\n",
      "  GO:0042802       0.00      0.00      0.00         5\n",
      "  GO:0047498       0.00      0.00      0.00         0\n",
      "  GO:0048018       0.00      0.00      0.00         0\n",
      "  GO:0001515       0.00      0.00      0.00         0\n",
      "  GO:0001716       0.60      0.55      0.57        11\n",
      "  GO:0042803       0.00      0.00      0.00         3\n",
      "  GO:0003677       1.00      0.91      0.95        11\n",
      "  GO:0050660       0.00      0.00      0.00         2\n",
      "  GO:0003990       0.00      0.00      0.00         2\n",
      "  GO:0003993       0.00      0.00      0.00         1\n",
      "  GO:0004175       0.00      0.00      0.00         0\n",
      "  GO:0004177       0.00      0.00      0.00         1\n",
      "  GO:0004415       1.00      0.71      0.83         7\n",
      "  GO:0008239       0.00      0.00      0.00         1\n",
      "  GO:0004556       0.00      0.00      0.00         0\n",
      "  GO:0004860       0.00      0.00      0.00         3\n",
      "  GO:0004866       0.00      0.00      0.00         0\n",
      "  GO:0004869       1.00      1.00      1.00         5\n",
      "  GO:0005154       0.00      0.00      0.00         0\n",
      "  GO:0005184       0.00      0.00      0.00         1\n",
      "  GO:0005185       0.00      0.00      0.00         0\n",
      "  GO:0005507       1.00      1.00      1.00         4\n",
      "  GO:0005516       0.00      0.00      0.00         4\n",
      "  GO:0005520       0.00      0.00      0.00         0\n",
      "  GO:0005534       0.00      0.00      0.00         0\n",
      "  GO:0030395       0.00      0.00      0.00         0\n",
      "  GO:0033296       0.00      0.00      0.00         0\n",
      "  GO:0008061       0.00      0.00      0.00         2\n",
      "  GO:0008083       1.00      0.82      0.90        11\n",
      "  GO:0016603       0.00      0.00      0.00         0\n",
      "  GO:0016787       0.00      0.00      0.00         1\n",
      "  GO:0019855       0.94      0.89      0.92        19\n",
      "  GO:0003676       1.00      0.67      0.80         3\n",
      "  GO:0016853       0.00      0.00      0.00         0\n",
      "  GO:0017081       1.00      0.86      0.92         7\n",
      "  GO:0044325       0.00      0.00      0.00         0\n",
      "  GO:0030246       1.00      0.88      0.93        16\n",
      "  GO:0030414       1.00      0.90      0.95        10\n",
      "  GO:0033906       0.00      0.00      0.00         1\n",
      "  GO:0043262       1.00      1.00      1.00         2\n",
      "  GO:0048019       0.00      0.00      0.00         0\n",
      "  GO:0070320       0.00      0.00      0.00         0\n",
      "  GO:0080030       0.00      0.00      0.00         0\n",
      "  GO:0140628       0.00      0.00      0.00         0\n",
      "\n",
      "   micro avg       0.99      0.95      0.97      3699\n",
      "   macro avg       0.45      0.40      0.42      3699\n",
      "weighted avg       0.98      0.95      0.96      3699\n",
      " samples avg       0.85      0.83      0.84      3699\n",
      "\n"
     ]
    }
   ],
   "source": [
    "mlconf = multilabel_confusion_matrix(y_true, y_pred)\n",
    "hamloss = hamming_loss(y_true,y_pred)\n",
    "\n",
    "disp = ConfusionMatrixDisplay(confusion_matrix=mlconf[0])\n",
    "print(mlconf)\n",
    "disp.plot()\n",
    "plt.show()\n",
    "\n",
    "\n",
    "label_names = ['GO:0090729', 'GO:0005179', 'GO:0016829',\n",
    "       'GO:0046872', 'GO:0008081', 'GO:0004867', 'GO:0099106', 'GO:0015459',\n",
    "       'GO:0004252', 'GO:0005246', 'GO:0004623', 'GO:0005509', 'GO:0008200',\n",
    "       'GO:0017080', 'GO:0019834', 'GO:0008270', 'GO:0030550', 'GO:0004222',\n",
    "       'GO:0052740', 'GO:0052739', 'GO:0008970', 'GO:0050025', 'GO:0050029',\n",
    "       'GO:0106329', 'GO:0008191', 'GO:0004620', 'GO:0008233', 'GO:0016504',\n",
    "       'GO:0060422', 'GO:0000166', 'GO:0106411', 'GO:0000287', 'GO:0008237',\n",
    "       'GO:0005102', 'GO:0005216', 'GO:0008201', 'GO:0008236', 'GO:0008289',\n",
    "       'GO:0019870', 'GO:0019871', 'GO:0004465', 'GO:0016491', 'GO:0042802',\n",
    "       'GO:0047498', 'GO:0048018', 'GO:0001515', 'GO:0001716', 'GO:0042803',\n",
    "       'GO:0003677', 'GO:0050660', 'GO:0003990', 'GO:0003993', 'GO:0004175',\n",
    "       'GO:0004177', 'GO:0004415', 'GO:0008239', 'GO:0004556', 'GO:0004860',\n",
    "       'GO:0004866', 'GO:0004869', 'GO:0005154', 'GO:0005184', 'GO:0005185',\n",
    "       'GO:0005507', 'GO:0005516', 'GO:0005520', 'GO:0005534', 'GO:0030395',\n",
    "       'GO:0033296', 'GO:0008061', 'GO:0008083', 'GO:0016603', 'GO:0016787',\n",
    "       'GO:0019855', 'GO:0003676', 'GO:0016853', 'GO:0017081', 'GO:0044325',\n",
    "       'GO:0030246', 'GO:0030414', 'GO:0033906', 'GO:0043262', 'GO:0048019',\n",
    "       'GO:0070320', 'GO:0080030', 'GO:0140628']\n",
    "\n",
    "print(classification_report(y_true, y_pred,target_names=label_names, zero_division=0))"
   ]
  },
  {
   "cell_type": "code",
   "execution_count": null,
   "metadata": {
    "id": "eOJmOPW6Adez"
   },
   "outputs": [],
   "source": []
  },
  {
   "cell_type": "code",
   "execution_count": null,
   "metadata": {
    "id": "OnpOgr-uJxmc"
   },
   "outputs": [],
   "source": []
  },
  {
   "cell_type": "code",
   "execution_count": null,
   "metadata": {
    "id": "WaKZsgTAJxgc"
   },
   "outputs": [],
   "source": []
  },
  {
   "cell_type": "code",
   "execution_count": null,
   "metadata": {
    "id": "AzWy0KGmJxdF"
   },
   "outputs": [],
   "source": []
  }
 ],
 "metadata": {
  "accelerator": "GPU",
  "colab": {
   "provenance": []
  },
  "gpuClass": "standard",
  "kernelspec": {
   "display_name": "Python 3",
   "name": "python3"
  },
  "language_info": {
   "codemirror_mode": {
    "name": "ipython",
    "version": 3
   },
   "file_extension": ".py",
   "mimetype": "text/x-python",
   "name": "python",
   "nbconvert_exporter": "python",
   "pygments_lexer": "ipython3",
   "version": "3.13.1"
  }
 },
 "nbformat": 4,
 "nbformat_minor": 0
}
